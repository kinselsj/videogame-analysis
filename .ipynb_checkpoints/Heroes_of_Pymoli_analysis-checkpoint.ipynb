{
 "cells": [
  {
   "cell_type": "code",
   "execution_count": 9,
   "metadata": {},
   "outputs": [],
   "source": [
    "import pandas as pd"
   ]
  },
  {
   "cell_type": "code",
   "execution_count": 23,
   "metadata": {},
   "outputs": [
    {
     "data": {
      "text/html": [
       "<div>\n",
       "<style scoped>\n",
       "    .dataframe tbody tr th:only-of-type {\n",
       "        vertical-align: middle;\n",
       "    }\n",
       "\n",
       "    .dataframe tbody tr th {\n",
       "        vertical-align: top;\n",
       "    }\n",
       "\n",
       "    .dataframe thead th {\n",
       "        text-align: right;\n",
       "    }\n",
       "</style>\n",
       "<table border=\"1\" class=\"dataframe\">\n",
       "  <thead>\n",
       "    <tr style=\"text-align: right;\">\n",
       "      <th></th>\n",
       "      <th>Purchase ID</th>\n",
       "      <th>SN</th>\n",
       "      <th>Age</th>\n",
       "      <th>Gender</th>\n",
       "      <th>Item ID</th>\n",
       "      <th>Item Name</th>\n",
       "      <th>Price</th>\n",
       "    </tr>\n",
       "  </thead>\n",
       "  <tbody>\n",
       "    <tr>\n",
       "      <th>0</th>\n",
       "      <td>0</td>\n",
       "      <td>Lisim78</td>\n",
       "      <td>20</td>\n",
       "      <td>Male</td>\n",
       "      <td>108</td>\n",
       "      <td>Extraction, Quickblade Of Trembling Hands</td>\n",
       "      <td>3.53</td>\n",
       "    </tr>\n",
       "    <tr>\n",
       "      <th>1</th>\n",
       "      <td>1</td>\n",
       "      <td>Lisovynya38</td>\n",
       "      <td>40</td>\n",
       "      <td>Male</td>\n",
       "      <td>143</td>\n",
       "      <td>Frenzied Scimitar</td>\n",
       "      <td>1.56</td>\n",
       "    </tr>\n",
       "    <tr>\n",
       "      <th>2</th>\n",
       "      <td>2</td>\n",
       "      <td>Ithergue48</td>\n",
       "      <td>24</td>\n",
       "      <td>Male</td>\n",
       "      <td>92</td>\n",
       "      <td>Final Critic</td>\n",
       "      <td>4.88</td>\n",
       "    </tr>\n",
       "    <tr>\n",
       "      <th>3</th>\n",
       "      <td>3</td>\n",
       "      <td>Chamassasya86</td>\n",
       "      <td>24</td>\n",
       "      <td>Male</td>\n",
       "      <td>100</td>\n",
       "      <td>Blindscythe</td>\n",
       "      <td>3.27</td>\n",
       "    </tr>\n",
       "    <tr>\n",
       "      <th>4</th>\n",
       "      <td>4</td>\n",
       "      <td>Iskosia90</td>\n",
       "      <td>23</td>\n",
       "      <td>Male</td>\n",
       "      <td>131</td>\n",
       "      <td>Fury</td>\n",
       "      <td>1.44</td>\n",
       "    </tr>\n",
       "  </tbody>\n",
       "</table>\n",
       "</div>"
      ],
      "text/plain": [
       "   Purchase ID             SN  Age Gender  Item ID  \\\n",
       "0            0        Lisim78   20   Male      108   \n",
       "1            1    Lisovynya38   40   Male      143   \n",
       "2            2     Ithergue48   24   Male       92   \n",
       "3            3  Chamassasya86   24   Male      100   \n",
       "4            4      Iskosia90   23   Male      131   \n",
       "\n",
       "                                   Item Name  Price  \n",
       "0  Extraction, Quickblade Of Trembling Hands   3.53  \n",
       "1                          Frenzied Scimitar   1.56  \n",
       "2                               Final Critic   4.88  \n",
       "3                                Blindscythe   3.27  \n",
       "4                                       Fury   1.44  "
      ]
     },
     "execution_count": 23,
     "metadata": {},
     "output_type": "execute_result"
    }
   ],
   "source": [
    "csv_path = \"purchase_data.csv\"\n",
    "purchase_df = pd.read_csv(csv_path)\n",
    "purchase_df.head()"
   ]
  },
  {
   "cell_type": "code",
   "execution_count": 24,
   "metadata": {},
   "outputs": [
    {
     "data": {
      "text/plain": [
       "576"
      ]
     },
     "execution_count": 24,
     "metadata": {},
     "output_type": "execute_result"
    }
   ],
   "source": [
    "### Player Count\n",
    "\n",
    "# Total Number of Players\n",
    "total_player_count = purchase_df[\"SN\"]\n",
    "len(total_player_count.unique())"
   ]
  },
  {
   "cell_type": "code",
   "execution_count": 37,
   "metadata": {},
   "outputs": [
    {
     "data": {
      "text/html": [
       "<div>\n",
       "<style scoped>\n",
       "    .dataframe tbody tr th:only-of-type {\n",
       "        vertical-align: middle;\n",
       "    }\n",
       "\n",
       "    .dataframe tbody tr th {\n",
       "        vertical-align: top;\n",
       "    }\n",
       "\n",
       "    .dataframe thead th {\n",
       "        text-align: right;\n",
       "    }\n",
       "</style>\n",
       "<table border=\"1\" class=\"dataframe\">\n",
       "  <thead>\n",
       "    <tr style=\"text-align: right;\">\n",
       "      <th></th>\n",
       "      <th>0</th>\n",
       "      <th>Number of Unique Items</th>\n",
       "      <th>Average Purchase Price</th>\n",
       "      <th>Total Number of Purchases</th>\n",
       "      <th>Total Revenue</th>\n",
       "    </tr>\n",
       "  </thead>\n",
       "  <tbody>\n",
       "    <tr>\n",
       "      <th>0</th>\n",
       "      <td>Summary Analysis Data</td>\n",
       "      <td>179</td>\n",
       "      <td>3.05</td>\n",
       "      <td>780</td>\n",
       "      <td>2379.77</td>\n",
       "    </tr>\n",
       "  </tbody>\n",
       "</table>\n",
       "</div>"
      ],
      "text/plain": [
       "                       0  Number of Unique Items  Average Purchase Price  \\\n",
       "0  Summary Analysis Data                     179                    3.05   \n",
       "\n",
       "   Total Number of Purchases  Total Revenue  \n",
       "0                        780        2379.77  "
      ]
     },
     "execution_count": 37,
     "metadata": {},
     "output_type": "execute_result"
    }
   ],
   "source": [
    "### Purchasing Analysis (Total)\n",
    "\n",
    "# Number of Unique Items\n",
    "# Average Purchase Price\n",
    "# Total Number of Purchases\n",
    "# Total Revenue\n",
    "summary_df = pd.DataFrame(data=[\"Summary Analysis Data\"])\n",
    "summary_df[\"Number of Unique Items\"] = len(purchase_df[\"Item Name\"].unique())\n",
    "summary_df[\"Average Purchase Price\"] = round(purchase_df[\"Price\"].mean(),2)\n",
    "summary_df[\"Total Number of Purchases\"] = purchase_df[\"Item ID\"].count()\n",
    "summary_df[\"Total Revenue\"] = purchase_df[\"Price\"].sum()\n",
    "\n",
    "\n",
    "summary_df"
   ]
  },
  {
   "cell_type": "code",
   "execution_count": 48,
   "metadata": {},
   "outputs": [
    {
     "data": {
      "text/plain": [
       "'83.59%'"
      ]
     },
     "execution_count": 48,
     "metadata": {},
     "output_type": "execute_result"
    }
   ],
   "source": [
    "### Gender Demographics\n",
    "\n",
    "# Percentage and Count of Male Players\n",
    "male_column = purchase_df[\"Gender\"]\n",
    "male_count = male_column == \"Male\"\n",
    "male_count_percent = (male_count.sum() / total_player_count)\n",
    "\"{:.2%}\".format(male_count_percent)\n",
    "\n",
    "\n"
   ]
  },
  {
   "cell_type": "code",
   "execution_count": 49,
   "metadata": {},
   "outputs": [
    {
     "data": {
      "text/plain": [
       "'14.49%'"
      ]
     },
     "execution_count": 49,
     "metadata": {},
     "output_type": "execute_result"
    }
   ],
   "source": [
    "# Percentage and Count of Female Players\n",
    "female_column = purchase_df[\"Gender\"]\n",
    "female_count = female_column == \"Female\"\n",
    "female_count_percent = (female_count.sum() / total_player_count)\n",
    "\"{:.2%}\".format(female_count_percent)"
   ]
  },
  {
   "cell_type": "code",
   "execution_count": 50,
   "metadata": {},
   "outputs": [
    {
     "data": {
      "text/plain": [
       "'1.92%'"
      ]
     },
     "execution_count": 50,
     "metadata": {},
     "output_type": "execute_result"
    }
   ],
   "source": [
    "# Percentage and Count of Other / Non-Disclosed\n",
    "other = 1 - (male_count_percent + female_count_percent)\n",
    "\"{:.2%}\".format(other)"
   ]
  },
  {
   "cell_type": "code",
   "execution_count": 51,
   "metadata": {},
   "outputs": [
    {
     "data": {
      "text/plain": [
       "Gender\n",
       "Female                   113\n",
       "Male                     652\n",
       "Other / Non-Disclosed     15\n",
       "Name: Price, dtype: int64"
      ]
     },
     "execution_count": 51,
     "metadata": {},
     "output_type": "execute_result"
    }
   ],
   "source": [
    "### Purchasing Analysis (Gender)\n",
    "\n",
    "# The below each broken by gender\n",
    "# Purchase Count\n",
    "grouped_gender = purchase_df.groupby(['Gender'])\n",
    "grouped_gender[\"Price\"].count()\n",
    " \n",
    " \n"
   ]
  },
  {
   "cell_type": "code",
   "execution_count": 52,
   "metadata": {},
   "outputs": [
    {
     "data": {
      "text/plain": [
       "Gender\n",
       "Female                   3.203009\n",
       "Male                     3.017853\n",
       "Other / Non-Disclosed    3.346000\n",
       "Name: Price, dtype: float64"
      ]
     },
     "execution_count": 52,
     "metadata": {},
     "output_type": "execute_result"
    }
   ],
   "source": [
    " # Average Purchase Price\n",
    "grouped_gender[\"Price\"].mean()"
   ]
  },
  {
   "cell_type": "code",
   "execution_count": 53,
   "metadata": {},
   "outputs": [
    {
     "data": {
      "text/plain": [
       "Gender\n",
       "Female                    361.94\n",
       "Male                     1967.64\n",
       "Other / Non-Disclosed      50.19\n",
       "Name: Price, dtype: float64"
      ]
     },
     "execution_count": 53,
     "metadata": {},
     "output_type": "execute_result"
    }
   ],
   "source": [
    " # Total Purchase Value\n",
    "grouped_gender[\"Price\"].sum()"
   ]
  },
  {
   "cell_type": "code",
   "execution_count": 54,
   "metadata": {},
   "outputs": [
    {
     "data": {
      "text/html": [
       "<div>\n",
       "<style scoped>\n",
       "    .dataframe tbody tr th:only-of-type {\n",
       "        vertical-align: middle;\n",
       "    }\n",
       "\n",
       "    .dataframe tbody tr th {\n",
       "        vertical-align: top;\n",
       "    }\n",
       "\n",
       "    .dataframe thead th {\n",
       "        text-align: right;\n",
       "    }\n",
       "</style>\n",
       "<table border=\"1\" class=\"dataframe\">\n",
       "  <thead>\n",
       "    <tr style=\"text-align: right;\">\n",
       "      <th></th>\n",
       "      <th>Sum Price</th>\n",
       "      <th>Total by Gender</th>\n",
       "      <th>Per Gender</th>\n",
       "    </tr>\n",
       "    <tr>\n",
       "      <th>Gender</th>\n",
       "      <th></th>\n",
       "      <th></th>\n",
       "      <th></th>\n",
       "    </tr>\n",
       "  </thead>\n",
       "  <tbody>\n",
       "    <tr>\n",
       "      <th>Female</th>\n",
       "      <td>361.94</td>\n",
       "      <td>113</td>\n",
       "      <td>3.203009</td>\n",
       "    </tr>\n",
       "    <tr>\n",
       "      <th>Male</th>\n",
       "      <td>1967.64</td>\n",
       "      <td>652</td>\n",
       "      <td>3.017853</td>\n",
       "    </tr>\n",
       "    <tr>\n",
       "      <th>Other / Non-Disclosed</th>\n",
       "      <td>50.19</td>\n",
       "      <td>15</td>\n",
       "      <td>3.346000</td>\n",
       "    </tr>\n",
       "  </tbody>\n",
       "</table>\n",
       "</div>"
      ],
      "text/plain": [
       "                       Sum Price  Total by Gender  Per Gender\n",
       "Gender                                                       \n",
       "Female                    361.94              113    3.203009\n",
       "Male                     1967.64              652    3.017853\n",
       "Other / Non-Disclosed      50.19               15    3.346000"
      ]
     },
     "execution_count": 54,
     "metadata": {},
     "output_type": "execute_result"
    }
   ],
   "source": [
    "  # Average Purchase Total per Person by Gender\n",
    "avg_per_person_df = pd.DataFrame(data=[])\n",
    "avg_per_person_df[\"Sum Price\"] = grouped_gender[\"Price\"].sum()\n",
    "avg_per_person_df[\"Total by Gender\"] = grouped_gender[\"Gender\"].count()\n",
    "avg_per_person_df[\"Per Gender\"] = avg_per_person_df[\"Sum Price\"] / avg_per_person_df[\"Total by Gender\"]\n",
    "\n",
    "avg_per_person_df"
   ]
  },
  {
   "cell_type": "code",
   "execution_count": 55,
   "metadata": {},
   "outputs": [],
   "source": [
    "### Age Demographics\n",
    "\n",
    "# The below each broken into bins of 4 years (i.e. &lt;10, 10-14, 15-19, etc.)\n",
    "bins = [0, 10, 14, 19, 24, 29, 34, 39, 44, 100]\n",
    "bin_names = [\"10 & under\", \"10-14\", \"15-19\", \"20-24\", \"25-29\", \"30-34\", \"35-39\", \"40-44\", \"45 & older\"]\n",
    "purchase_df[\"Age Group\"] = pd.cut(purchase_df[\"Age\"], bins, labels=bin_names)"
   ]
  },
  {
   "cell_type": "code",
   "execution_count": 56,
   "metadata": {},
   "outputs": [
    {
     "data": {
      "text/html": [
       "<div>\n",
       "<style scoped>\n",
       "    .dataframe tbody tr th:only-of-type {\n",
       "        vertical-align: middle;\n",
       "    }\n",
       "\n",
       "    .dataframe tbody tr th {\n",
       "        vertical-align: top;\n",
       "    }\n",
       "\n",
       "    .dataframe thead th {\n",
       "        text-align: right;\n",
       "    }\n",
       "</style>\n",
       "<table border=\"1\" class=\"dataframe\">\n",
       "  <thead>\n",
       "    <tr style=\"text-align: right;\">\n",
       "      <th></th>\n",
       "      <th>Number of Items Purchased</th>\n",
       "      <th>Average Purchase Price</th>\n",
       "      <th>User Count</th>\n",
       "      <th>Total Spend</th>\n",
       "      <th>Spend per Person</th>\n",
       "    </tr>\n",
       "    <tr>\n",
       "      <th>Age Group</th>\n",
       "      <th></th>\n",
       "      <th></th>\n",
       "      <th></th>\n",
       "      <th></th>\n",
       "      <th></th>\n",
       "    </tr>\n",
       "  </thead>\n",
       "  <tbody>\n",
       "    <tr>\n",
       "      <th>10 &amp; under</th>\n",
       "      <td>32</td>\n",
       "      <td>3.405000</td>\n",
       "      <td>24</td>\n",
       "      <td>108.96</td>\n",
       "      <td>4.540000</td>\n",
       "    </tr>\n",
       "    <tr>\n",
       "      <th>10-14</th>\n",
       "      <td>19</td>\n",
       "      <td>2.681579</td>\n",
       "      <td>15</td>\n",
       "      <td>50.95</td>\n",
       "      <td>3.396667</td>\n",
       "    </tr>\n",
       "    <tr>\n",
       "      <th>15-19</th>\n",
       "      <td>136</td>\n",
       "      <td>3.035956</td>\n",
       "      <td>107</td>\n",
       "      <td>412.89</td>\n",
       "      <td>3.858785</td>\n",
       "    </tr>\n",
       "    <tr>\n",
       "      <th>20-24</th>\n",
       "      <td>365</td>\n",
       "      <td>3.052219</td>\n",
       "      <td>258</td>\n",
       "      <td>1114.06</td>\n",
       "      <td>4.318062</td>\n",
       "    </tr>\n",
       "    <tr>\n",
       "      <th>25-29</th>\n",
       "      <td>101</td>\n",
       "      <td>2.900990</td>\n",
       "      <td>77</td>\n",
       "      <td>293.00</td>\n",
       "      <td>3.805195</td>\n",
       "    </tr>\n",
       "    <tr>\n",
       "      <th>30-34</th>\n",
       "      <td>73</td>\n",
       "      <td>2.931507</td>\n",
       "      <td>52</td>\n",
       "      <td>214.00</td>\n",
       "      <td>4.115385</td>\n",
       "    </tr>\n",
       "    <tr>\n",
       "      <th>35-39</th>\n",
       "      <td>41</td>\n",
       "      <td>3.601707</td>\n",
       "      <td>31</td>\n",
       "      <td>147.67</td>\n",
       "      <td>4.763548</td>\n",
       "    </tr>\n",
       "    <tr>\n",
       "      <th>40-44</th>\n",
       "      <td>12</td>\n",
       "      <td>3.045000</td>\n",
       "      <td>11</td>\n",
       "      <td>36.54</td>\n",
       "      <td>3.321818</td>\n",
       "    </tr>\n",
       "    <tr>\n",
       "      <th>45 &amp; older</th>\n",
       "      <td>1</td>\n",
       "      <td>1.700000</td>\n",
       "      <td>1</td>\n",
       "      <td>1.70</td>\n",
       "      <td>1.700000</td>\n",
       "    </tr>\n",
       "  </tbody>\n",
       "</table>\n",
       "</div>"
      ],
      "text/plain": [
       "            Number of Items Purchased  Average Purchase Price  User Count  \\\n",
       "Age Group                                                                   \n",
       "10 & under                         32                3.405000          24   \n",
       "10-14                              19                2.681579          15   \n",
       "15-19                             136                3.035956         107   \n",
       "20-24                             365                3.052219         258   \n",
       "25-29                             101                2.900990          77   \n",
       "30-34                              73                2.931507          52   \n",
       "35-39                              41                3.601707          31   \n",
       "40-44                              12                3.045000          11   \n",
       "45 & older                          1                1.700000           1   \n",
       "\n",
       "            Total Spend  Spend per Person  \n",
       "Age Group                                  \n",
       "10 & under       108.96          4.540000  \n",
       "10-14             50.95          3.396667  \n",
       "15-19            412.89          3.858785  \n",
       "20-24           1114.06          4.318062  \n",
       "25-29            293.00          3.805195  \n",
       "30-34            214.00          4.115385  \n",
       "35-39            147.67          4.763548  \n",
       "40-44             36.54          3.321818  \n",
       "45 & older         1.70          1.700000  "
      ]
     },
     "execution_count": 56,
     "metadata": {},
     "output_type": "execute_result"
    }
   ],
   "source": [
    "# Purchase Count\n",
    "# Average Purchase Price\n",
    "# Total Purchase Value\n",
    "# Average Purchase Total per Person by Age Group\n",
    "\n",
    "age_demo_df = purchase_df.groupby(\"Age Group\")\n",
    "avg_demo_per_person_df = pd.DataFrame(data=[])\n",
    "avg_demo_per_person_df[\"Number of Items Purchased\"] = age_demo_df[\"Item Name\"].count()\n",
    "avg_demo_per_person_df[\"Average Purchase Price\"] = age_demo_df[\"Price\"].mean()\n",
    "avg_demo_per_person_df[\"User Count\"] = age_demo_df[\"SN\"].nunique()\n",
    "avg_demo_per_person_df[\"Total Spend\"] = age_demo_df[\"Price\"].sum()\n",
    "avg_demo_per_person_df[\"Spend per Person\"] = avg_demo_per_person_df[\"Total Spend\"] / avg_demo_per_person_df[\"User Count\"]\n",
    "\n",
    "avg_demo_per_person_df"
   ]
  },
  {
   "cell_type": "code",
   "execution_count": 112,
   "metadata": {},
   "outputs": [
    {
     "data": {
      "text/html": [
       "<div>\n",
       "<style scoped>\n",
       "    .dataframe tbody tr th:only-of-type {\n",
       "        vertical-align: middle;\n",
       "    }\n",
       "\n",
       "    .dataframe tbody tr th {\n",
       "        vertical-align: top;\n",
       "    }\n",
       "\n",
       "    .dataframe thead th {\n",
       "        text-align: right;\n",
       "    }\n",
       "</style>\n",
       "<table border=\"1\" class=\"dataframe\">\n",
       "  <thead>\n",
       "    <tr style=\"text-align: right;\">\n",
       "      <th></th>\n",
       "      <th>Purchase Count</th>\n",
       "      <th>Average Purchase Price</th>\n",
       "      <th>Total Purchase Value</th>\n",
       "    </tr>\n",
       "    <tr>\n",
       "      <th>SN</th>\n",
       "      <th></th>\n",
       "      <th></th>\n",
       "      <th></th>\n",
       "    </tr>\n",
       "  </thead>\n",
       "  <tbody>\n",
       "    <tr>\n",
       "      <th>Lisosia93</th>\n",
       "      <td>5</td>\n",
       "      <td>3.79</td>\n",
       "      <td>18.96</td>\n",
       "    </tr>\n",
       "    <tr>\n",
       "      <th>Idastidru52</th>\n",
       "      <td>4</td>\n",
       "      <td>3.86</td>\n",
       "      <td>15.45</td>\n",
       "    </tr>\n",
       "    <tr>\n",
       "      <th>Chamjask73</th>\n",
       "      <td>3</td>\n",
       "      <td>4.61</td>\n",
       "      <td>13.83</td>\n",
       "    </tr>\n",
       "    <tr>\n",
       "      <th>Iral74</th>\n",
       "      <td>4</td>\n",
       "      <td>3.40</td>\n",
       "      <td>13.62</td>\n",
       "    </tr>\n",
       "    <tr>\n",
       "      <th>Iskadarya95</th>\n",
       "      <td>3</td>\n",
       "      <td>4.37</td>\n",
       "      <td>13.10</td>\n",
       "    </tr>\n",
       "  </tbody>\n",
       "</table>\n",
       "</div>"
      ],
      "text/plain": [
       "             Purchase Count  Average Purchase Price  Total Purchase Value\n",
       "SN                                                                       \n",
       "Lisosia93                 5                    3.79                 18.96\n",
       "Idastidru52               4                    3.86                 15.45\n",
       "Chamjask73                3                    4.61                 13.83\n",
       "Iral74                    4                    3.40                 13.62\n",
       "Iskadarya95               3                    4.37                 13.10"
      ]
     },
     "execution_count": 112,
     "metadata": {},
     "output_type": "execute_result"
    }
   ],
   "source": [
    "### Top Spenders\n",
    "\n",
    "# Identify the the top 5 spenders in the game by total purchase value, then list (in a table):\n",
    "  # SN\n",
    "  # Purchase Count\n",
    "  # Average Purchase Price\n",
    "  # Total Purchase Value\n",
    "\n",
    "group_spenders_df = purchase_df.groupby(\"SN\")\n",
    "top_spenders_df = pd.DataFrame(data=[])\n",
    "top_spenders_df[\"Purchase Count\"] = group_spenders_df[\"Item Name\"].count()\n",
    "top_spenders_df[\"Average Purchase Price\"] = round(group_spenders_df[\"Price\"].mean(),2)\n",
    "top_spenders_df[\"Total Purchase Value\"] = group_spenders_df[\"Price\"].sum()\n",
    "\n",
    "top_spenders_df.sort_values(\"Total Purchase Value\", ascending=False).head()\n"
   ]
  },
  {
   "cell_type": "code",
   "execution_count": 146,
   "metadata": {},
   "outputs": [
    {
     "data": {
      "text/html": [
       "<div>\n",
       "<style scoped>\n",
       "    .dataframe tbody tr th:only-of-type {\n",
       "        vertical-align: middle;\n",
       "    }\n",
       "\n",
       "    .dataframe tbody tr th {\n",
       "        vertical-align: top;\n",
       "    }\n",
       "\n",
       "    .dataframe thead th {\n",
       "        text-align: right;\n",
       "    }\n",
       "</style>\n",
       "<table border=\"1\" class=\"dataframe\">\n",
       "  <thead>\n",
       "    <tr style=\"text-align: right;\">\n",
       "      <th></th>\n",
       "      <th>Item Name</th>\n",
       "      <th>Purchase Count</th>\n",
       "      <th>Item Price</th>\n",
       "      <th>Total Purchase Value</th>\n",
       "    </tr>\n",
       "    <tr>\n",
       "      <th>Item ID</th>\n",
       "      <th></th>\n",
       "      <th></th>\n",
       "      <th></th>\n",
       "      <th></th>\n",
       "    </tr>\n",
       "  </thead>\n",
       "  <tbody>\n",
       "    <tr>\n",
       "      <th>178</th>\n",
       "      <td>[Oathbreaker, Last Hope of the Breaking Storm]</td>\n",
       "      <td>12</td>\n",
       "      <td>[4.23]</td>\n",
       "      <td>50.76</td>\n",
       "    </tr>\n",
       "    <tr>\n",
       "      <th>145</th>\n",
       "      <td>[Fiery Glass Crusader]</td>\n",
       "      <td>9</td>\n",
       "      <td>[4.58]</td>\n",
       "      <td>41.22</td>\n",
       "    </tr>\n",
       "    <tr>\n",
       "      <th>108</th>\n",
       "      <td>[Extraction, Quickblade Of Trembling Hands]</td>\n",
       "      <td>9</td>\n",
       "      <td>[3.53]</td>\n",
       "      <td>31.77</td>\n",
       "    </tr>\n",
       "    <tr>\n",
       "      <th>82</th>\n",
       "      <td>[Nirvana]</td>\n",
       "      <td>9</td>\n",
       "      <td>[4.9]</td>\n",
       "      <td>44.10</td>\n",
       "    </tr>\n",
       "    <tr>\n",
       "      <th>19</th>\n",
       "      <td>[Pursuit, Cudgel of Necromancy]</td>\n",
       "      <td>8</td>\n",
       "      <td>[1.02]</td>\n",
       "      <td>8.16</td>\n",
       "    </tr>\n",
       "  </tbody>\n",
       "</table>\n",
       "</div>"
      ],
      "text/plain": [
       "                                              Item Name  Purchase Count  \\\n",
       "Item ID                                                                   \n",
       "178      [Oathbreaker, Last Hope of the Breaking Storm]              12   \n",
       "145                              [Fiery Glass Crusader]               9   \n",
       "108         [Extraction, Quickblade Of Trembling Hands]               9   \n",
       "82                                            [Nirvana]               9   \n",
       "19                      [Pursuit, Cudgel of Necromancy]               8   \n",
       "\n",
       "        Item Price  Total Purchase Value  \n",
       "Item ID                                   \n",
       "178         [4.23]                 50.76  \n",
       "145         [4.58]                 41.22  \n",
       "108         [3.53]                 31.77  \n",
       "82           [4.9]                 44.10  \n",
       "19          [1.02]                  8.16  "
      ]
     },
     "execution_count": 146,
     "metadata": {},
     "output_type": "execute_result"
    }
   ],
   "source": [
    "### Most Popular Items\n",
    "\n",
    "# Identify the 5 most popular items by purchase count, then list (in a table):\n",
    "  # Item ID\n",
    "  # Item Name\n",
    "  # Purchase Count\n",
    "  # Item Price\n",
    "  # Total Purchase Value\n",
    "    \n",
    "group_item_df = purchase_df.groupby(\"Item ID\")\n",
    "popular_items_df = pd.DataFrame(data=[])\n",
    "popular_items_df[\"Item Name\"] = group_item_df[\"Item Name\"].unique()\n",
    "popular_items_df[\"Purchase Count\"] = group_item_df[\"Item Name\"].count()\n",
    "popular_items_df[\"Item Price\"] = group_item_df[\"Price\"].unique()\n",
    "popular_items_df[\"Total Purchase Value\"] = group_item_df[\"Price\"].sum()\n",
    "\n",
    "\n",
    "popular_items_df.sort_values(\"Purchase Count\", ascending=False).head()"
   ]
  },
  {
   "cell_type": "code",
   "execution_count": 147,
   "metadata": {},
   "outputs": [
    {
     "data": {
      "text/html": [
       "<div>\n",
       "<style scoped>\n",
       "    .dataframe tbody tr th:only-of-type {\n",
       "        vertical-align: middle;\n",
       "    }\n",
       "\n",
       "    .dataframe tbody tr th {\n",
       "        vertical-align: top;\n",
       "    }\n",
       "\n",
       "    .dataframe thead th {\n",
       "        text-align: right;\n",
       "    }\n",
       "</style>\n",
       "<table border=\"1\" class=\"dataframe\">\n",
       "  <thead>\n",
       "    <tr style=\"text-align: right;\">\n",
       "      <th></th>\n",
       "      <th>Item Name</th>\n",
       "      <th>Purchase Count</th>\n",
       "      <th>Item Price</th>\n",
       "      <th>Total Purchase Value</th>\n",
       "    </tr>\n",
       "    <tr>\n",
       "      <th>Item ID</th>\n",
       "      <th></th>\n",
       "      <th></th>\n",
       "      <th></th>\n",
       "      <th></th>\n",
       "    </tr>\n",
       "  </thead>\n",
       "  <tbody>\n",
       "    <tr>\n",
       "      <th>178</th>\n",
       "      <td>[Oathbreaker, Last Hope of the Breaking Storm]</td>\n",
       "      <td>12</td>\n",
       "      <td>[4.23]</td>\n",
       "      <td>50.76</td>\n",
       "    </tr>\n",
       "    <tr>\n",
       "      <th>82</th>\n",
       "      <td>[Nirvana]</td>\n",
       "      <td>9</td>\n",
       "      <td>[4.9]</td>\n",
       "      <td>44.10</td>\n",
       "    </tr>\n",
       "    <tr>\n",
       "      <th>145</th>\n",
       "      <td>[Fiery Glass Crusader]</td>\n",
       "      <td>9</td>\n",
       "      <td>[4.58]</td>\n",
       "      <td>41.22</td>\n",
       "    </tr>\n",
       "    <tr>\n",
       "      <th>92</th>\n",
       "      <td>[Final Critic]</td>\n",
       "      <td>8</td>\n",
       "      <td>[4.88]</td>\n",
       "      <td>39.04</td>\n",
       "    </tr>\n",
       "    <tr>\n",
       "      <th>103</th>\n",
       "      <td>[Singed Scalpel]</td>\n",
       "      <td>8</td>\n",
       "      <td>[4.35]</td>\n",
       "      <td>34.80</td>\n",
       "    </tr>\n",
       "  </tbody>\n",
       "</table>\n",
       "</div>"
      ],
      "text/plain": [
       "                                              Item Name  Purchase Count  \\\n",
       "Item ID                                                                   \n",
       "178      [Oathbreaker, Last Hope of the Breaking Storm]              12   \n",
       "82                                            [Nirvana]               9   \n",
       "145                              [Fiery Glass Crusader]               9   \n",
       "92                                       [Final Critic]               8   \n",
       "103                                    [Singed Scalpel]               8   \n",
       "\n",
       "        Item Price  Total Purchase Value  \n",
       "Item ID                                   \n",
       "178         [4.23]                 50.76  \n",
       "82           [4.9]                 44.10  \n",
       "145         [4.58]                 41.22  \n",
       "92          [4.88]                 39.04  \n",
       "103         [4.35]                 34.80  "
      ]
     },
     "execution_count": 147,
     "metadata": {},
     "output_type": "execute_result"
    }
   ],
   "source": [
    "### Most Profitable Items\n",
    "\n",
    "# Identify the 5 most profitable items by total purchase value, then list (in a table):\n",
    "  # Item ID\n",
    "  # Item Name\n",
    "  # Purchase Count\n",
    "  # Item Price\n",
    "  # Total Purchase Value\n",
    "    \n",
    "popular_items_df.sort_values(\"Total Purchase Value\", ascending=False).head()"
   ]
  },
  {
   "cell_type": "code",
   "execution_count": null,
   "metadata": {},
   "outputs": [],
   "source": []
  }
 ],
 "metadata": {
  "kernelspec": {
   "display_name": "Python 3",
   "language": "python",
   "name": "python3"
  },
  "language_info": {
   "codemirror_mode": {
    "name": "ipython",
    "version": 3
   },
   "file_extension": ".py",
   "mimetype": "text/x-python",
   "name": "python",
   "nbconvert_exporter": "python",
   "pygments_lexer": "ipython3",
   "version": "3.7.3"
  }
 },
 "nbformat": 4,
 "nbformat_minor": 2
}
